{
 "cells": [
  {
   "cell_type": "code",
   "execution_count": 1,
   "metadata": {},
   "outputs": [],
   "source": [
    "import pandas as pd\n",
    "import numpy as np"
   ]
  },
  {
   "cell_type": "code",
   "execution_count": 2,
   "metadata": {},
   "outputs": [
    {
     "data": {
      "text/html": [
       "<div>\n",
       "<style scoped>\n",
       "    .dataframe tbody tr th:only-of-type {\n",
       "        vertical-align: middle;\n",
       "    }\n",
       "\n",
       "    .dataframe tbody tr th {\n",
       "        vertical-align: top;\n",
       "    }\n",
       "\n",
       "    .dataframe thead th {\n",
       "        text-align: right;\n",
       "    }\n",
       "</style>\n",
       "<table border=\"1\" class=\"dataframe\">\n",
       "  <thead>\n",
       "    <tr style=\"text-align: right;\">\n",
       "      <th></th>\n",
       "      <th>sentence</th>\n",
       "      <th>snippets</th>\n",
       "      <th>target</th>\n",
       "      <th>sentiment_score</th>\n",
       "      <th>aspects</th>\n",
       "      <th>format</th>\n",
       "      <th>label</th>\n",
       "    </tr>\n",
       "  </thead>\n",
       "  <tbody>\n",
       "    <tr>\n",
       "      <th>0</th>\n",
       "      <td>Still short $LNG from $11.70 area...next stop ...</td>\n",
       "      <td>['Still short $LNG from $11.70 area...next sto...</td>\n",
       "      <td>LNG</td>\n",
       "      <td>-0.543</td>\n",
       "      <td>['Stock/Price Action/Volatility/Short Selling']</td>\n",
       "      <td>post</td>\n",
       "      <td>2</td>\n",
       "    </tr>\n",
       "    <tr>\n",
       "      <th>1</th>\n",
       "      <td>$PLUG bear raid</td>\n",
       "      <td>['bear raid']</td>\n",
       "      <td>PLUG</td>\n",
       "      <td>-0.480</td>\n",
       "      <td>['Stock/Price Action/Bearish']</td>\n",
       "      <td>post</td>\n",
       "      <td>2</td>\n",
       "    </tr>\n",
       "    <tr>\n",
       "      <th>2</th>\n",
       "      <td>How Kraft-Heinz Merger Came Together in Speedy...</td>\n",
       "      <td>['Merger Came Together in Speedy 10 Weeks']</td>\n",
       "      <td>Kraft</td>\n",
       "      <td>0.214</td>\n",
       "      <td>['Corporate/M&amp;A/M&amp;A']</td>\n",
       "      <td>headline</td>\n",
       "      <td>0</td>\n",
       "    </tr>\n",
       "    <tr>\n",
       "      <th>3</th>\n",
       "      <td>Slump in Weir leads FTSE down from record high</td>\n",
       "      <td>['down from record high']</td>\n",
       "      <td>Weir</td>\n",
       "      <td>-0.827</td>\n",
       "      <td>['Market/Volatility/Volatility']</td>\n",
       "      <td>headline</td>\n",
       "      <td>2</td>\n",
       "    </tr>\n",
       "    <tr>\n",
       "      <th>4</th>\n",
       "      <td>$AAPL bounces off support, it seems</td>\n",
       "      <td>['bounces off support']</td>\n",
       "      <td>AAPL</td>\n",
       "      <td>0.443</td>\n",
       "      <td>['Stock/Price Action/Bullish/Bullish Behaviour']</td>\n",
       "      <td>post</td>\n",
       "      <td>0</td>\n",
       "    </tr>\n",
       "  </tbody>\n",
       "</table>\n",
       "</div>"
      ],
      "text/plain": [
       "                                            sentence  \\\n",
       "0  Still short $LNG from $11.70 area...next stop ...   \n",
       "1                                    $PLUG bear raid   \n",
       "2  How Kraft-Heinz Merger Came Together in Speedy...   \n",
       "3     Slump in Weir leads FTSE down from record high   \n",
       "4                $AAPL bounces off support, it seems   \n",
       "\n",
       "                                            snippets target  sentiment_score  \\\n",
       "0  ['Still short $LNG from $11.70 area...next sto...    LNG           -0.543   \n",
       "1                                      ['bear raid']   PLUG           -0.480   \n",
       "2        ['Merger Came Together in Speedy 10 Weeks']  Kraft            0.214   \n",
       "3                          ['down from record high']   Weir           -0.827   \n",
       "4                            ['bounces off support']   AAPL            0.443   \n",
       "\n",
       "                                            aspects    format  label  \n",
       "0   ['Stock/Price Action/Volatility/Short Selling']      post      2  \n",
       "1                    ['Stock/Price Action/Bearish']      post      2  \n",
       "2                             ['Corporate/M&A/M&A']  headline      0  \n",
       "3                  ['Market/Volatility/Volatility']  headline      2  \n",
       "4  ['Stock/Price Action/Bullish/Bullish Behaviour']      post      0  "
      ]
     },
     "execution_count": 2,
     "metadata": {},
     "output_type": "execute_result"
    }
   ],
   "source": [
    "train = pd.read_csv(\"train.csv\")\n",
    "train.head()"
   ]
  },
  {
   "cell_type": "code",
   "execution_count": 3,
   "metadata": {},
   "outputs": [
    {
     "data": {
      "text/html": [
       "<div>\n",
       "<style scoped>\n",
       "    .dataframe tbody tr th:only-of-type {\n",
       "        vertical-align: middle;\n",
       "    }\n",
       "\n",
       "    .dataframe tbody tr th {\n",
       "        vertical-align: top;\n",
       "    }\n",
       "\n",
       "    .dataframe thead th {\n",
       "        text-align: right;\n",
       "    }\n",
       "</style>\n",
       "<table border=\"1\" class=\"dataframe\">\n",
       "  <thead>\n",
       "    <tr style=\"text-align: right;\">\n",
       "      <th></th>\n",
       "      <th>sentiment_score</th>\n",
       "      <th>label</th>\n",
       "    </tr>\n",
       "  </thead>\n",
       "  <tbody>\n",
       "    <tr>\n",
       "      <th>count</th>\n",
       "      <td>961.000000</td>\n",
       "      <td>961.000000</td>\n",
       "    </tr>\n",
       "    <tr>\n",
       "      <th>mean</th>\n",
       "      <td>0.142210</td>\n",
       "      <td>0.649324</td>\n",
       "    </tr>\n",
       "    <tr>\n",
       "      <th>std</th>\n",
       "      <td>0.408823</td>\n",
       "      <td>0.917891</td>\n",
       "    </tr>\n",
       "    <tr>\n",
       "      <th>min</th>\n",
       "      <td>-0.854000</td>\n",
       "      <td>0.000000</td>\n",
       "    </tr>\n",
       "    <tr>\n",
       "      <th>25%</th>\n",
       "      <td>-0.260000</td>\n",
       "      <td>0.000000</td>\n",
       "    </tr>\n",
       "    <tr>\n",
       "      <th>50%</th>\n",
       "      <td>0.281000</td>\n",
       "      <td>0.000000</td>\n",
       "    </tr>\n",
       "    <tr>\n",
       "      <th>75%</th>\n",
       "      <td>0.461000</td>\n",
       "      <td>2.000000</td>\n",
       "    </tr>\n",
       "    <tr>\n",
       "      <th>max</th>\n",
       "      <td>0.975000</td>\n",
       "      <td>2.000000</td>\n",
       "    </tr>\n",
       "  </tbody>\n",
       "</table>\n",
       "</div>"
      ],
      "text/plain": [
       "       sentiment_score       label\n",
       "count       961.000000  961.000000\n",
       "mean          0.142210    0.649324\n",
       "std           0.408823    0.917891\n",
       "min          -0.854000    0.000000\n",
       "25%          -0.260000    0.000000\n",
       "50%           0.281000    0.000000\n",
       "75%           0.461000    2.000000\n",
       "max           0.975000    2.000000"
      ]
     },
     "execution_count": 3,
     "metadata": {},
     "output_type": "execute_result"
    }
   ],
   "source": [
    "train.describe()"
   ]
  },
  {
   "cell_type": "code",
   "execution_count": 4,
   "metadata": {},
   "outputs": [
    {
     "data": {
      "text/plain": [
       "(array([0, 1, 2]), array([632,  34, 295]))"
      ]
     },
     "execution_count": 4,
     "metadata": {},
     "output_type": "execute_result"
    }
   ],
   "source": [
    "np.unique(train['label'], return_counts=True)"
   ]
  },
  {
   "cell_type": "code",
   "execution_count": 5,
   "metadata": {},
   "outputs": [
    {
     "name": "stdout",
     "output_type": "stream",
     "text": [
      "961\n"
     ]
    },
    {
     "data": {
      "text/plain": [
       "2"
      ]
     },
     "execution_count": 5,
     "metadata": {},
     "output_type": "execute_result"
    }
   ],
   "source": [
    "print(len(train))\n",
    "train.iloc[9]['label'].item()\n"
   ]
  },
  {
   "cell_type": "code",
   "execution_count": 6,
   "metadata": {},
   "outputs": [
    {
     "name": "stdout",
     "output_type": "stream",
     "text": [
      "0.4090759493670885 -0.000558823529411764 -0.41306101694915276\n"
     ]
    }
   ],
   "source": [
    "avg_0 = 0.0\n",
    "cnt_0 = 0\n",
    "avg_1 = 0.0\n",
    "cnt_1 = 0\n",
    "avg_2 = 0.0\n",
    "cnt_2 = 0\n",
    "\n",
    "for i in range(len(train)):\n",
    "    lbl = train.iloc[i]['label'].item()\n",
    "    sent = train.iloc[i]['sentiment_score'].item()\n",
    "\n",
    "    if lbl == 0:\n",
    "        cnt_0 += 1\n",
    "        avg_0 += sent\n",
    "\n",
    "    elif lbl == 1:\n",
    "        cnt_1 += 1\n",
    "        avg_1 += sent\n",
    "\n",
    "    else:\n",
    "        cnt_2 += 1\n",
    "        avg_2 += sent\n",
    "\n",
    "\n",
    "print(avg_0/cnt_0, avg_1/cnt_1, avg_2/cnt_2)"
   ]
  },
  {
   "cell_type": "code",
   "execution_count": 7,
   "metadata": {},
   "outputs": [
    {
     "data": {
      "text/html": [
       "<div>\n",
       "<style scoped>\n",
       "    .dataframe tbody tr th:only-of-type {\n",
       "        vertical-align: middle;\n",
       "    }\n",
       "\n",
       "    .dataframe tbody tr th {\n",
       "        vertical-align: top;\n",
       "    }\n",
       "\n",
       "    .dataframe thead th {\n",
       "        text-align: right;\n",
       "    }\n",
       "</style>\n",
       "<table border=\"1\" class=\"dataframe\">\n",
       "  <thead>\n",
       "    <tr style=\"text-align: right;\">\n",
       "      <th></th>\n",
       "      <th>sentence</th>\n",
       "      <th>snippets</th>\n",
       "      <th>target</th>\n",
       "      <th>sentiment_score</th>\n",
       "      <th>aspects</th>\n",
       "      <th>format</th>\n",
       "      <th>label</th>\n",
       "    </tr>\n",
       "  </thead>\n",
       "  <tbody>\n",
       "    <tr>\n",
       "      <th>767</th>\n",
       "      <td>UPDATE: EasyJet Passenger Numbers, Aer Lingus ...</td>\n",
       "      <td>['Traffic Up']</td>\n",
       "      <td>Aer Lingus</td>\n",
       "      <td>0.284</td>\n",
       "      <td>['Corporate/Sales']</td>\n",
       "      <td>headline</td>\n",
       "      <td>0</td>\n",
       "    </tr>\n",
       "    <tr>\n",
       "      <th>768</th>\n",
       "      <td>Shell's $70 Billion BG Deal Meets Shareholder ...</td>\n",
       "      <td>['Deal Meets Shareholder Skepticism']</td>\n",
       "      <td>Shell</td>\n",
       "      <td>-0.345</td>\n",
       "      <td>['Corporate/Rumors/Rumors']</td>\n",
       "      <td>headline</td>\n",
       "      <td>2</td>\n",
       "    </tr>\n",
       "    <tr>\n",
       "      <th>769</th>\n",
       "      <td>$KITD Looking for a oversold bounce.</td>\n",
       "      <td>['Looking for a oversold bounce.']</td>\n",
       "      <td>KITD</td>\n",
       "      <td>0.436</td>\n",
       "      <td>['Stock/Price Action/Current Price/Oversold']</td>\n",
       "      <td>post</td>\n",
       "      <td>0</td>\n",
       "    </tr>\n",
       "    <tr>\n",
       "      <th>770</th>\n",
       "      <td>Carnival Corporation and China Merchants Group...</td>\n",
       "      <td>['Group Sign Memo of Understanding ..']</td>\n",
       "      <td>China Merchants Group</td>\n",
       "      <td>0.119</td>\n",
       "      <td>['Corporate/Strategy/Company Agreement']</td>\n",
       "      <td>headline</td>\n",
       "      <td>0</td>\n",
       "    </tr>\n",
       "    <tr>\n",
       "      <th>771</th>\n",
       "      <td>AB InBev offers SABMiller $3 billion breakup fee</td>\n",
       "      <td>['offers SABMiller $3 billion breakup fee']</td>\n",
       "      <td>SAB Miller</td>\n",
       "      <td>0.197</td>\n",
       "      <td>['Corporate/M&amp;A/M&amp;A']</td>\n",
       "      <td>headline</td>\n",
       "      <td>0</td>\n",
       "    </tr>\n",
       "    <tr>\n",
       "      <th>772</th>\n",
       "      <td>Bought some more $CELG as it is ready for a bo...</td>\n",
       "      <td>['Bought some more']</td>\n",
       "      <td>CELG</td>\n",
       "      <td>0.628</td>\n",
       "      <td>['Stock/Price Action/Bullish/Bull Position']</td>\n",
       "      <td>post</td>\n",
       "      <td>0</td>\n",
       "    </tr>\n",
       "    <tr>\n",
       "      <th>773</th>\n",
       "      <td>Diageo receives reports from United Spirits on...</td>\n",
       "      <td>['United Spirits on financial irregularitie']</td>\n",
       "      <td>Diageo</td>\n",
       "      <td>-0.255</td>\n",
       "      <td>['Corporate/Reputation']</td>\n",
       "      <td>headline</td>\n",
       "      <td>2</td>\n",
       "    </tr>\n",
       "    <tr>\n",
       "      <th>774</th>\n",
       "      <td>Juniper tumbles on Q1 warning; Cisco also lowe...</td>\n",
       "      <td>['tumbles on Q1 warning']</td>\n",
       "      <td>JNPR</td>\n",
       "      <td>-0.556</td>\n",
       "      <td>['Corporate/Financial/Financial Results/Earnin...</td>\n",
       "      <td>post</td>\n",
       "      <td>2</td>\n",
       "    </tr>\n",
       "    <tr>\n",
       "      <th>775</th>\n",
       "      <td>$GOOG resistance turned support?  It</td>\n",
       "      <td>['resistance turned support?']</td>\n",
       "      <td>GOOG</td>\n",
       "      <td>0.340</td>\n",
       "      <td>['Stock/Technical Analysis']</td>\n",
       "      <td>post</td>\n",
       "      <td>0</td>\n",
       "    </tr>\n",
       "    <tr>\n",
       "      <th>776</th>\n",
       "      <td>$FB bot some @78.47 breakout from the consolid...</td>\n",
       "      <td>['bot some @78.47 breakout from the consolidat...</td>\n",
       "      <td>FB</td>\n",
       "      <td>0.724</td>\n",
       "      <td>['Stock/Price Action/Bullish/Bull Position']</td>\n",
       "      <td>post</td>\n",
       "      <td>0</td>\n",
       "    </tr>\n",
       "    <tr>\n",
       "      <th>777</th>\n",
       "      <td>Renewed AB InBev Bid for SABMiller Ups Stake i...</td>\n",
       "      <td>['AB InBev Bid for SABMiller Ups Stake']</td>\n",
       "      <td>SAB Miller</td>\n",
       "      <td>0.236</td>\n",
       "      <td>['Corporate/M&amp;A/M&amp;A']</td>\n",
       "      <td>headline</td>\n",
       "      <td>0</td>\n",
       "    </tr>\n",
       "  </tbody>\n",
       "</table>\n",
       "</div>"
      ],
      "text/plain": [
       "                                              sentence  \\\n",
       "767  UPDATE: EasyJet Passenger Numbers, Aer Lingus ...   \n",
       "768  Shell's $70 Billion BG Deal Meets Shareholder ...   \n",
       "769               $KITD Looking for a oversold bounce.   \n",
       "770  Carnival Corporation and China Merchants Group...   \n",
       "771   AB InBev offers SABMiller $3 billion breakup fee   \n",
       "772  Bought some more $CELG as it is ready for a bo...   \n",
       "773  Diageo receives reports from United Spirits on...   \n",
       "774  Juniper tumbles on Q1 warning; Cisco also lowe...   \n",
       "775               $GOOG resistance turned support?  It   \n",
       "776  $FB bot some @78.47 breakout from the consolid...   \n",
       "777  Renewed AB InBev Bid for SABMiller Ups Stake i...   \n",
       "\n",
       "                                              snippets                 target  \\\n",
       "767                                     ['Traffic Up']             Aer Lingus   \n",
       "768              ['Deal Meets Shareholder Skepticism']                  Shell   \n",
       "769                 ['Looking for a oversold bounce.']                   KITD   \n",
       "770            ['Group Sign Memo of Understanding ..']  China Merchants Group   \n",
       "771        ['offers SABMiller $3 billion breakup fee']             SAB Miller   \n",
       "772                               ['Bought some more']                   CELG   \n",
       "773      ['United Spirits on financial irregularitie']                 Diageo   \n",
       "774                          ['tumbles on Q1 warning']                   JNPR   \n",
       "775                     ['resistance turned support?']                   GOOG   \n",
       "776  ['bot some @78.47 breakout from the consolidat...                     FB   \n",
       "777           ['AB InBev Bid for SABMiller Ups Stake']             SAB Miller   \n",
       "\n",
       "     sentiment_score                                            aspects  \\\n",
       "767            0.284                                ['Corporate/Sales']   \n",
       "768           -0.345                        ['Corporate/Rumors/Rumors']   \n",
       "769            0.436      ['Stock/Price Action/Current Price/Oversold']   \n",
       "770            0.119           ['Corporate/Strategy/Company Agreement']   \n",
       "771            0.197                              ['Corporate/M&A/M&A']   \n",
       "772            0.628       ['Stock/Price Action/Bullish/Bull Position']   \n",
       "773           -0.255                           ['Corporate/Reputation']   \n",
       "774           -0.556  ['Corporate/Financial/Financial Results/Earnin...   \n",
       "775            0.340                       ['Stock/Technical Analysis']   \n",
       "776            0.724       ['Stock/Price Action/Bullish/Bull Position']   \n",
       "777            0.236                              ['Corporate/M&A/M&A']   \n",
       "\n",
       "       format  label  \n",
       "767  headline      0  \n",
       "768  headline      2  \n",
       "769      post      0  \n",
       "770  headline      0  \n",
       "771  headline      0  \n",
       "772      post      0  \n",
       "773  headline      2  \n",
       "774      post      2  \n",
       "775      post      0  \n",
       "776      post      0  \n",
       "777  headline      0  "
      ]
     },
     "execution_count": 7,
     "metadata": {},
     "output_type": "execute_result"
    }
   ],
   "source": [
    "train.iloc[767:778]"
   ]
  },
  {
   "cell_type": "code",
   "execution_count": 8,
   "metadata": {},
   "outputs": [
    {
     "data": {
      "text/plain": [
       "'Stock/Price Action/Bearish/Bearish Behaviour'"
      ]
     },
     "execution_count": 8,
     "metadata": {},
     "output_type": "execute_result"
    }
   ],
   "source": [
    "train.iloc[9]['aspects'][2:-2]"
   ]
  },
  {
   "cell_type": "code",
   "execution_count": 9,
   "metadata": {},
   "outputs": [
    {
     "name": "stdout",
     "output_type": "stream",
     "text": [
      "2711 ['Price Action', 'Short Selling', 'Stock', 'Volatility', 'Bearish']\n"
     ]
    }
   ],
   "source": [
    "aspect_list = []\n",
    "my_list = []\n",
    "for i in range(len(train)):\n",
    "    my_list.append(train.iloc[i]['aspects'][2:-2])\n",
    "    aspects = train.iloc[i]['aspects'][2:-2].split('/')\n",
    "    aspects = np.unique(aspects).tolist()\n",
    "    for a in aspects:\n",
    "        aspect_list.append(a)\n",
    "\n",
    "\n",
    "print(len(aspect_list), aspect_list[:5])\n",
    "unique_aspects = np.unique(aspect_list)"
   ]
  },
  {
   "cell_type": "code",
   "execution_count": 14,
   "metadata": {},
   "outputs": [
    {
     "data": {
      "text/plain": [
       "(array(['', '52-Week High', 'Accounting', 'AnalystRatings', 'Appointment',\n",
       "        'Bankruptcy', 'Bear Position', 'Bear Put Spread', 'Bearish',\n",
       "        'Bearish Behaviour', 'Breakout', 'Bull Call Spread',\n",
       "        'Bull Position', 'Bullish', 'Bullish Behaviour', 'Business Model',\n",
       "        'Buy Signal', 'Buyout', 'Buyside', 'Cash Flow', 'Cash Reserves',\n",
       "        'Central Banks', 'Company Agreement', 'Company Communication',\n",
       "        'Company Guidance', 'Conditions', 'Contract Withdrawn',\n",
       "        'Corporate', 'Corporate Expansion', 'Corporate Planning',\n",
       "        'Court Ruling', 'Coverage', 'Credit Rating', 'Currency',\n",
       "        'Current Price', 'Deal', 'Demand Shortfall', 'Direction',\n",
       "        'Dispute', 'Divestment', 'Dividend', 'Dividend Policy',\n",
       "        'Dividend going up', 'Downgrade', 'Earnings', 'Earnings Beat',\n",
       "        'Earnings miss', 'Economy', 'Executive Appointment',\n",
       "        'Exisiting bankruptcy', 'Extraordinary Meeting',\n",
       "        'Failed Contract Discussion', 'Financial', 'Financial Results',\n",
       "        'Fundamentals', 'Future Price', 'Hacks', 'Halt in Services', 'IPO',\n",
       "        'Insider Activity', 'Insider Selling', 'Insider Trading',\n",
       "        'Investment', 'Joint Venture', 'Lawsuit', 'Legal', 'M&A', 'MACD',\n",
       "        'Market', 'Market Outlook', 'Market Trend', 'Monetary Policy',\n",
       "        'Monetary Policy - SNB', 'Mutual Fund flows', 'New Product',\n",
       "        'Options', 'Overbought', 'Oversold', 'Partnership', 'Price Action',\n",
       "        'Product Flaws', 'Product Recall', 'Profit Warning',\n",
       "        'Proposed Merger', 'Regulatory', 'Reorganization', 'Reputation',\n",
       "        'Risks', 'Rumors', 'Sales', 'Scoop', 'Sell Signal', 'Sell-Off',\n",
       "        'Selling Pressure', 'Settlement', 'Share Buyback',\n",
       "        'Short Interest Rate', 'Short Selling', 'Signal', 'Staff Hiring',\n",
       "        'Stochastic', 'Stock', 'Stock Buyside', 'Stock Coverage',\n",
       "        'Stock Volatility', 'Strategies', 'Strategy', 'Technical Analysis',\n",
       "        'Trade', 'Trend', 'Trending up', 'Unusual Call Activity',\n",
       "        'Unusual Low Volume', 'Unusual Put Activity',\n",
       "        'Unusually high volume', 'Upgrade', 'Volatilit', 'Volatility',\n",
       "        'Volume', 'downgrade'], dtype='<U26'),\n",
       " array([  1,   4,   3,  32,  16,   1,   5,   1,  88,  40,  10,   1,  40,\n",
       "        187,  70,   1,  15,   1,   4,   1,   1,   3,   4,   9,   1,   3,\n",
       "          1, 368,   3,   3,   1,  38,   1,   1,  11,  21,   1,   3,   1,\n",
       "          2,   5,  30,   3,   9,  16,   2,   1,   4,   3,   1,   1,   1,\n",
       "         25,  18,  12,   4,   1,   1,   6,   4,   2,   1,   2,   2,   6,\n",
       "         22,  66,   1,  28,   1,   4,   1,   1,   1,   3,  12,   1,   6,\n",
       "          2, 379,   2,  19,   2,  17,  12,   2,   8,  44,  20,  75,   7,\n",
       "          7,   2,   1,   4,   2,   1,  15,  22,   2,   1, 562,   4,   1,\n",
       "          1,   4,  39,  87,   1,   4,   3,   1,   1,   1,   2,  18,   2,\n",
       "         26,   3,   1]))"
      ]
     },
     "execution_count": 14,
     "metadata": {},
     "output_type": "execute_result"
    }
   ],
   "source": [
    "np.unique(aspect_list, return_counts=True)"
   ]
  },
  {
   "cell_type": "code",
   "execution_count": 12,
   "metadata": {},
   "outputs": [
    {
     "data": {
      "text/plain": [
       "array(['52-Week High', 'Accounting', 'AnalystRatings', 'Appointment',\n",
       "       'Bankruptcy', 'Bear Position', 'Bear Put Spread', 'Bearish',\n",
       "       'Bearish Behaviour', 'Breakout', 'Bull Call Spread',\n",
       "       'Bull Position', 'Bullish', 'Bullish Behaviour', 'Business Model',\n",
       "       'Buy Signal', 'Buyout', 'Buyside', 'Cash Flow', 'Cash Reserves',\n",
       "       'Central Banks', 'Company Agreement', 'Company Communication',\n",
       "       'Company Guidance', 'Conditions', 'Contract Withdrawn',\n",
       "       'Corporate', 'Corporate Expansion', 'Corporate Planning',\n",
       "       'Court Ruling', 'Coverage', 'Credit Rating', 'Currency',\n",
       "       'Current Price', 'Deal', 'Demand Shortfall', 'Direction',\n",
       "       'Dispute', 'Divestment', 'Dividend', 'Dividend Policy',\n",
       "       'Dividend going up', 'Downgrade', 'Earnings', 'Earnings Beat',\n",
       "       'Earnings miss', 'Economy', 'Executive Appointment',\n",
       "       'Exisiting bankruptcy', 'Extraordinary Meeting',\n",
       "       'Failed Contract Discussion', 'Financial', 'Financial Results',\n",
       "       'Fundamentals', 'Future Price', 'Hacks', 'Halt in Services', 'IPO',\n",
       "       'Insider Activity', 'Insider Selling', 'Insider Trading',\n",
       "       'Investment', 'Joint Venture', 'Lawsuit', 'Legal', 'M&A', 'MACD',\n",
       "       'Market', 'Market Outlook', 'Market Trend', 'Monetary Policy',\n",
       "       'Monetary Policy - SNB', 'Mutual Fund flows', 'New Product',\n",
       "       'Options', 'Overbought', 'Oversold', 'Partnership', 'Price Action',\n",
       "       'Product Flaws', 'Product Recall', 'Profit Warning',\n",
       "       'Proposed Merger', 'Regulatory', 'Reorganization', 'Reputation',\n",
       "       'Risks', 'Rumors', 'Sales', 'Scoop', 'Sell Signal', 'Sell-Off',\n",
       "       'Selling Pressure', 'Settlement', 'Share Buyback',\n",
       "       'Short Interest Rate', 'Short Selling', 'Signal', 'Staff Hiring',\n",
       "       'Stochastic', 'Stock', 'Stock Buyside', 'Stock Coverage',\n",
       "       'Stock Volatility', 'Strategies', 'Strategy', 'Technical Analysis',\n",
       "       'Trade', 'Trend', 'Trending up', 'Unusual Call Activity',\n",
       "       'Unusual Low Volume', 'Unusual Put Activity',\n",
       "       'Unusually high volume', 'Upgrade', 'Volatilit', 'Volatility',\n",
       "       'Volume', 'downgrade'], dtype='<U26')"
      ]
     },
     "execution_count": 12,
     "metadata": {},
     "output_type": "execute_result"
    }
   ],
   "source": [
    "unique_aspects = unique_aspects[1:]\n",
    "unique_aspects"
   ]
  },
  {
   "cell_type": "code",
   "execution_count": 13,
   "metadata": {},
   "outputs": [],
   "source": [
    "with open(\"unique_aspects\", 'w') as file:\n",
    "    # Join the words with newlines and write to file\n",
    "    file.write('\\n'.join(unique_aspects))"
   ]
  },
  {
   "cell_type": "code",
   "execution_count": null,
   "metadata": {},
   "outputs": [],
   "source": []
  }
 ],
 "metadata": {
  "kernelspec": {
   "display_name": "barclay",
   "language": "python",
   "name": "python3"
  },
  "language_info": {
   "codemirror_mode": {
    "name": "ipython",
    "version": 3
   },
   "file_extension": ".py",
   "mimetype": "text/x-python",
   "name": "python",
   "nbconvert_exporter": "python",
   "pygments_lexer": "ipython3",
   "version": "3.12.3"
  }
 },
 "nbformat": 4,
 "nbformat_minor": 2
}
